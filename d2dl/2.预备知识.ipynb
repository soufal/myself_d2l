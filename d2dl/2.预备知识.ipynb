{
 "cells": [
  {
   "cell_type": "markdown",
   "id": "d37a4501-1646-4061-8cde-367c0c6d783a",
   "metadata": {},
   "source": [
    "### 2.1 数据操作\n",
    "\n",
    "* 张量（tensor）：n维数组。相当于`numpy`中的`ndarray`。\n",
    "    \n",
    "    * 深度学习框架中的张量相比于`numpy`来说：能够支持GPU并行计算；能够自动微分。"
   ]
  },
  {
   "cell_type": "markdown",
   "id": "f0b03aa7-391b-4b51-aecc-8a0b55d52e48",
   "metadata": {},
   "source": [
    "#### 1. 基本操作"
   ]
  },
  {
   "cell_type": "code",
   "execution_count": 4,
   "id": "774cc69b-8fe0-4907-8ba4-7ae8f315d7ea",
   "metadata": {},
   "outputs": [],
   "source": [
    "# 使用pytorch\n",
    "import torch\n"
   ]
  },
  {
   "cell_type": "markdown",
   "id": "59b11f37-9852-4f63-be18-2988b61223d7",
   "metadata": {},
   "source": [
    "张量表示一个由多个数值组成的数组，而这个数组可以是多维度的，一维的张量对应数学上的*向量*，二维的张量对应数学上的*矩阵*，二维以上的无特殊表示。"
   ]
  },
  {
   "cell_type": "code",
   "execution_count": 6,
   "id": "f87259c9-5468-40d0-9a3e-4dc400670dc3",
   "metadata": {},
   "outputs": [
    {
     "data": {
      "text/plain": [
       "tensor([ 0,  1,  2,  3,  4,  5,  6,  7,  8,  9, 10, 11])"
      ]
     },
     "execution_count": 6,
     "metadata": {},
     "output_type": "execute_result"
    }
   ],
   "source": [
    "# 使用arange创建一个行向量\n",
    "x = torch.arange(12)\n",
    "x"
   ]
  },
  {
   "cell_type": "markdown",
   "id": "c0a24c95-a507-46f1-ae52-a980ef31e312",
   "metadata": {},
   "source": [
    "轴：行0，列1"
   ]
  },
  {
   "cell_type": "code",
   "execution_count": 8,
   "id": "0f0e6b3c-87ce-4a07-871f-ffde7b000e72",
   "metadata": {},
   "outputs": [
    {
     "data": {
      "text/plain": [
       "torch.Size([12])"
      ]
     },
     "execution_count": 8,
     "metadata": {},
     "output_type": "execute_result"
    }
   ],
   "source": [
    "# 访问张量的形状（每个轴的长度）\n",
    "x.shape"
   ]
  },
  {
   "cell_type": "code",
   "execution_count": 10,
   "id": "2c73444a-0fe3-432f-8658-859419346178",
   "metadata": {},
   "outputs": [
    {
     "data": {
      "text/plain": [
       "12"
      ]
     },
     "execution_count": 10,
     "metadata": {},
     "output_type": "execute_result"
    }
   ],
   "source": [
    "# 张量中元素的总数\n",
    "x.numel()"
   ]
  },
  {
   "cell_type": "code",
   "execution_count": 11,
   "id": "844bbd63-1f26-418c-88c2-7f4b589a0f96",
   "metadata": {},
   "outputs": [
    {
     "data": {
      "text/plain": [
       "tensor([[ 0,  1,  2,  3],\n",
       "        [ 4,  5,  6,  7],\n",
       "        [ 8,  9, 10, 11]])"
      ]
     },
     "execution_count": 11,
     "metadata": {},
     "output_type": "execute_result"
    }
   ],
   "source": [
    "# 改变一个张量的形状，而不改变元素个数和数值\n",
    "X = x.reshape(3,4)\n",
    "X"
   ]
  },
  {
   "cell_type": "code",
   "execution_count": 14,
   "id": "5a4d7b97-86b5-4b1e-80bb-96f7c4d8ccfa",
   "metadata": {},
   "outputs": [
    {
     "data": {
      "text/plain": [
       "tensor([[ 0,  1,  2,  3],\n",
       "        [ 4,  5,  6,  7],\n",
       "        [ 8,  9, 10, 11]])"
      ]
     },
     "execution_count": 14,
     "metadata": {},
     "output_type": "execute_result"
    }
   ],
   "source": [
    "# 通过调用-1来代替上述的改变形状\n",
    "X1 = x.reshape(-1,4)\n",
    "X1\n"
   ]
  },
  {
   "cell_type": "code",
   "execution_count": 15,
   "id": "2677c806-ee44-480d-98e9-9006fd71144a",
   "metadata": {},
   "outputs": [
    {
     "data": {
      "text/plain": [
       "tensor([[ 0,  1,  2,  3],\n",
       "        [ 4,  5,  6,  7],\n",
       "        [ 8,  9, 10, 11]])"
      ]
     },
     "execution_count": 15,
     "metadata": {},
     "output_type": "execute_result"
    }
   ],
   "source": [
    "\n",
    "X2 = x.reshape(3,-1)\n",
    "X2"
   ]
  },
  {
   "cell_type": "code",
   "execution_count": 16,
   "id": "fa6713b1-b931-4397-bb82-866ff6b5b473",
   "metadata": {},
   "outputs": [
    {
     "data": {
      "text/plain": [
       "tensor([[[0., 0., 0., 0.],\n",
       "         [0., 0., 0., 0.],\n",
       "         [0., 0., 0., 0.]],\n",
       "\n",
       "        [[0., 0., 0., 0.],\n",
       "         [0., 0., 0., 0.],\n",
       "         [0., 0., 0., 0.]]])"
      ]
     },
     "execution_count": 16,
     "metadata": {},
     "output_type": "execute_result"
    }
   ],
   "source": [
    "# 初始化一个全为0的张量\n",
    "torch.zeros((2,3,4))"
   ]
  },
  {
   "cell_type": "code",
   "execution_count": 17,
   "id": "9f884838-c5ca-4083-a6c3-aa47eb402b8b",
   "metadata": {},
   "outputs": [
    {
     "data": {
      "text/plain": [
       "tensor([[[1., 1., 1., 1.],\n",
       "         [1., 1., 1., 1.],\n",
       "         [1., 1., 1., 1.]],\n",
       "\n",
       "        [[1., 1., 1., 1.],\n",
       "         [1., 1., 1., 1.],\n",
       "         [1., 1., 1., 1.]]])"
      ]
     },
     "execution_count": 17,
     "metadata": {},
     "output_type": "execute_result"
    }
   ],
   "source": [
    "# 初始化一个全为1 的张量\n",
    "torch.ones((2,3,4))"
   ]
  },
  {
   "cell_type": "code",
   "execution_count": 18,
   "id": "ba524884-e237-4719-99e9-8e5d34b2ca2e",
   "metadata": {},
   "outputs": [
    {
     "data": {
      "text/plain": [
       "tensor([[ 0.7291, -0.8580, -0.5570,  0.0374],\n",
       "        [ 2.0765,  1.2677,  0.0759,  0.0580],\n",
       "        [-1.1753, -1.4308, -1.7913, -0.6926]])"
      ]
     },
     "execution_count": 18,
     "metadata": {},
     "output_type": "execute_result"
    }
   ],
   "source": [
    "# 从均值为0标准差为1的 标准高斯（正态分布）中随机采样\n",
    "torch.randn(3,4)\n"
   ]
  },
  {
   "cell_type": "code",
   "execution_count": 21,
   "id": "90b2f74d-09d9-4ba1-8692-aab4dddcf218",
   "metadata": {},
   "outputs": [
    {
     "data": {
      "text/plain": [
       "tensor([[ 1,  2,  3,  4],\n",
       "        [ 5,  6,  7,  8],\n",
       "        [ 9, 10, 11, 12]])"
      ]
     },
     "execution_count": 21,
     "metadata": {},
     "output_type": "execute_result"
    }
   ],
   "source": [
    "# 可用所提供的的python列表将其转化为tensor\n",
    "# 这里最外层对应轴0（3），最内层对应轴1（4）\n",
    "torch.tensor([[1,2,3,4], [5,6,7,8], [9,10,11,12]])"
   ]
  },
  {
   "cell_type": "markdown",
   "id": "423f027d-8ba0-42b3-966c-4b2abdad91c1",
   "metadata": {},
   "source": [
    "#### 2. 运算符"
   ]
  },
  {
   "cell_type": "code",
   "execution_count": 22,
   "id": "461f2afa-bb27-4350-9f2f-8236163542e6",
   "metadata": {},
   "outputs": [
    {
     "data": {
      "text/plain": [
       "(tensor([2.2000, 3.0000, 5.0000]),\n",
       " tensor([-1.8000, -1.0000,  1.0000]),\n",
       " tensor([0.4000, 2.0000, 6.0000]),\n",
       " tensor([0.1000, 0.5000, 1.5000]),\n",
       " tensor([0.0400, 1.0000, 9.0000]))"
      ]
     },
     "execution_count": 22,
     "metadata": {},
     "output_type": "execute_result"
    }
   ],
   "source": [
    "# 按元素操作 + - * / **\n",
    "x = torch.tensor([0.2, 1, 3])\n",
    "y = torch.tensor([2, 2, 2])\n",
    "\n",
    "x + y, x - y, x * y, x / y, x ** y\n"
   ]
  },
  {
   "cell_type": "code",
   "execution_count": 23,
   "id": "7fe3d73b-c8b6-4f38-8743-42be652091d2",
   "metadata": {},
   "outputs": [
    {
     "data": {
      "text/plain": [
       "tensor([ 1.2214,  2.7183, 20.0855])"
      ]
     },
     "execution_count": 23,
     "metadata": {},
     "output_type": "execute_result"
    }
   ],
   "source": [
    "torch.exp(x)"
   ]
  },
  {
   "cell_type": "code",
   "execution_count": 27,
   "id": "d5bd6c1f-f638-401b-9119-52bcfa9c904b",
   "metadata": {},
   "outputs": [
    {
     "data": {
      "text/plain": [
       "(tensor([[ 0.,  1.,  2.,  3.],\n",
       "         [ 4.,  5.,  6.,  7.],\n",
       "         [ 8.,  9., 10., 11.],\n",
       "         [ 1.,  2.,  3.,  4.],\n",
       "         [ 4.,  5.,  2.,  1.],\n",
       "         [ 6.,  4.,  7.,  3.]]),\n",
       " tensor([[ 0.,  1.,  2.,  3.,  1.,  2.,  3.,  4.],\n",
       "         [ 4.,  5.,  6.,  7.,  4.,  5.,  2.,  1.],\n",
       "         [ 8.,  9., 10., 11.,  6.,  4.,  7.,  3.]]))"
      ]
     },
     "execution_count": 27,
     "metadata": {},
     "output_type": "execute_result"
    }
   ],
   "source": [
    "# 可以把多个张量联结（concatenate）在一起，\n",
    "# 让他们端对端的形成一个更大的张量\n",
    "# 只需提供张量列表，并给出沿那个轴联结\n",
    "X = torch.arange(12, dtype=torch.float32).reshape(3,4)\n",
    "Y = torch.tensor([[1.0, 2.0, 3, 4], [4, 5, 2, 1], [6, 4, 7 ,3]])\n",
    "\n",
    "# 按照行来联结(追加行), 按照列来联结(追加列)\n",
    "torch.cat((X, Y), dim=0), torch.cat((X, Y), dim=1)"
   ]
  },
  {
   "cell_type": "code",
   "execution_count": 28,
   "id": "80328477-58e5-4849-8737-651e17e46741",
   "metadata": {},
   "outputs": [
    {
     "data": {
      "text/plain": [
       "tensor([[False, False, False, False],\n",
       "        [ True,  True, False, False],\n",
       "        [False, False, False, False]])"
      ]
     },
     "execution_count": 28,
     "metadata": {},
     "output_type": "execute_result"
    }
   ],
   "source": [
    "# 通过逻辑运算符来构建二元张量\n",
    "X == Y"
   ]
  },
  {
   "cell_type": "code",
   "execution_count": 29,
   "id": "5e006311-c73c-426c-8176-d97c50d0dc04",
   "metadata": {},
   "outputs": [
    {
     "data": {
      "text/plain": [
       "tensor([[False, False, False, False],\n",
       "        [False, False,  True,  True],\n",
       "        [ True,  True,  True,  True]])"
      ]
     },
     "execution_count": 29,
     "metadata": {},
     "output_type": "execute_result"
    }
   ],
   "source": [
    "X > Y"
   ]
  },
  {
   "cell_type": "code",
   "execution_count": 30,
   "id": "c8e0a1e1-40bc-493f-a901-28a74789e3eb",
   "metadata": {},
   "outputs": [
    {
     "data": {
      "text/plain": [
       "tensor([[ True,  True,  True,  True],\n",
       "        [False, False, False, False],\n",
       "        [False, False, False, False]])"
      ]
     },
     "execution_count": 30,
     "metadata": {},
     "output_type": "execute_result"
    }
   ],
   "source": [
    "X < Y"
   ]
  },
  {
   "cell_type": "code",
   "execution_count": 31,
   "id": "94aed077-adb1-408f-bf7a-c9c18a76f039",
   "metadata": {},
   "outputs": [
    {
     "data": {
      "text/plain": [
       "tensor(66.)"
      ]
     },
     "execution_count": 31,
     "metadata": {},
     "output_type": "execute_result"
    }
   ],
   "source": [
    "# 对张量中的所有元素求和，会产生一个单元素张量\n",
    "X.sum()"
   ]
  },
  {
   "cell_type": "code",
   "execution_count": 32,
   "id": "460fec84-2613-4c54-acee-246675c466d5",
   "metadata": {},
   "outputs": [
    {
     "data": {
      "text/plain": [
       "tensor(42.)"
      ]
     },
     "execution_count": 32,
     "metadata": {},
     "output_type": "execute_result"
    }
   ],
   "source": [
    "Y.sum()"
   ]
  },
  {
   "cell_type": "markdown",
   "id": "6a68b6e1-c750-4bcf-8ec8-b5aab52cc1dd",
   "metadata": {},
   "source": [
    "#### 3. 广播机制\n",
    "\n",
    "在某些情况下，即使张量的形状不同，可以利用**广播机制（broadcasting mechanism）**来执行按元素操作。\n",
    "\n",
    "1. 通过复制一个或者两个数组来保持张量的形状一致；\n",
    "2. 然后再对他们进行按元素运算。"
   ]
  },
  {
   "cell_type": "code",
   "execution_count": 33,
   "id": "6bafbc4c-8e4a-4593-8f86-5b44ce0d01a8",
   "metadata": {},
   "outputs": [
    {
     "data": {
      "text/plain": [
       "(tensor([[0],\n",
       "         [1],\n",
       "         [2]]),\n",
       " tensor([[0, 1]]))"
      ]
     },
     "execution_count": 33,
     "metadata": {},
     "output_type": "execute_result"
    }
   ],
   "source": [
    "a = torch.arange(3).reshape((3,1))\n",
    "b = torch.arange(2).reshape((1,2))\n",
    "\n",
    "a, b"
   ]
  },
  {
   "cell_type": "code",
   "execution_count": 34,
   "id": "b5b5ca4d-c970-4214-9a2c-d9bce9bfc332",
   "metadata": {},
   "outputs": [
    {
     "data": {
      "text/plain": [
       "tensor([[0, 1],\n",
       "        [1, 2],\n",
       "        [2, 3]])"
      ]
     },
     "execution_count": 34,
     "metadata": {},
     "output_type": "execute_result"
    }
   ],
   "source": [
    "a + b"
   ]
  },
  {
   "cell_type": "markdown",
   "id": "2478dce5-7e5b-45f5-ad96-72d3e1a6122e",
   "metadata": {},
   "source": [
    "上述过程描述为：\n",
    "\n",
    "$$a = \n",
    "\\begin{pmatrix}\n",
    "0\\\\\n",
    "1\\\\\n",
    "2\\\\\n",
    "\\end{pmatrix}\n",
    "$$\n",
    "\n",
    "$$b = \n",
    "\\begin{pmatrix}\n",
    "0 & 1\n",
    "\\end{pmatrix}\n",
    "$$\n",
    "\n",
    "1. `a`张量按照`b`张量的形状复制一列：\n",
    "\n",
    "$$a^` = \n",
    "\\begin{pmatrix}\n",
    "0 & 0\\\\\n",
    "1 & 1\\\\\n",
    "2 & 2\\\\\n",
    "\\end{pmatrix}\n",
    "$$\n",
    "\n",
    "得到一个形状为`3*2`的张量。\n",
    "\n",
    "2. `b`同理也按照`a`张量的形状复制两行：\n",
    "\n",
    "$$b^` = \n",
    "\\begin{pmatrix}\n",
    "0 & 1\\\\\n",
    "0 & 1\\\\\n",
    "0 & 1\\\\\n",
    "\\end{pmatrix}\n",
    "$$\n",
    "\n",
    "同样得到一个形状为`3*2`的张量。\n",
    "\n",
    "3. 然后两个张量按照元素相加即可：\n",
    "\n",
    "$$a + b = \n",
    "\\begin{pmatrix}\n",
    "0 & 0\\\\\n",
    "1 & 1\\\\\n",
    "2 & 2\\\\\n",
    "\\end{pmatrix}\n",
    "+\n",
    "\\begin{pmatrix}\n",
    "0 & 1\\\\\n",
    "0 & 1\\\\\n",
    "0 & 1\\\\\n",
    "\\end{pmatrix}\n",
    "=\n",
    "\\begin{pmatrix}\n",
    "0 & 1\\\\\n",
    "1 & 2\\\\\n",
    "2 & 3\\\\\n",
    "\\end{pmatrix}\n",
    "$$"
   ]
  },
  {
   "cell_type": "markdown",
   "id": "a251698b-2cc5-496b-be9d-97c650e830fd",
   "metadata": {},
   "source": [
    "若张量为三维以上："
   ]
  },
  {
   "cell_type": "code",
   "execution_count": 105,
   "id": "7d8be520-2922-427c-93c5-c0809c1d09b6",
   "metadata": {},
   "outputs": [
    {
     "data": {
      "text/plain": [
       "(tensor([[[0, 1]],\n",
       " \n",
       "         [[0, 1]]]),\n",
       " torch.Size([2, 1, 2]))"
      ]
     },
     "execution_count": 105,
     "metadata": {},
     "output_type": "execute_result"
    }
   ],
   "source": [
    "# 三维张量测试\n",
    "X_3 = torch.tensor([[[0, 1]], [[0, 1]]])\n",
    "X_3, X_3.shape"
   ]
  },
  {
   "cell_type": "code",
   "execution_count": 106,
   "id": "d6322b65-ac08-4fda-a480-b7265b2edcc6",
   "metadata": {},
   "outputs": [
    {
     "data": {
      "text/plain": [
       "(tensor([[[0],\n",
       "          [1]]]),\n",
       " torch.Size([1, 2, 1]))"
      ]
     },
     "execution_count": 106,
     "metadata": {},
     "output_type": "execute_result"
    }
   ],
   "source": [
    "Y_3 = torch.tensor([[[0], [1]]])\n",
    "Y_3, Y_3.shape"
   ]
  },
  {
   "cell_type": "code",
   "execution_count": 107,
   "id": "03e65f11-7d7a-4ad7-804b-0d372d222f36",
   "metadata": {},
   "outputs": [
    {
     "data": {
      "text/plain": [
       "(tensor([[[0, 1],\n",
       "          [1, 2]],\n",
       " \n",
       "         [[0, 1],\n",
       "          [1, 2]]]),\n",
       " torch.Size([2, 2, 2]))"
      ]
     },
     "execution_count": 107,
     "metadata": {},
     "output_type": "execute_result"
    }
   ],
   "source": [
    "XY = X_3 + Y_3\n",
    "XY, XY.shape"
   ]
  },
  {
   "cell_type": "markdown",
   "id": "765ea02c-2cbb-478a-a0f0-f14b827dd07c",
   "metadata": {},
   "source": [
    "#### 4. 索引和切片"
   ]
  },
  {
   "cell_type": "code",
   "execution_count": 35,
   "id": "84b3215f-2d26-4c69-b002-068b4086b8f7",
   "metadata": {},
   "outputs": [
    {
     "data": {
      "text/plain": [
       "tensor([[ 0.,  1.,  2.,  3.],\n",
       "        [ 4.,  5.,  6.,  7.],\n",
       "        [ 8.,  9., 10., 11.]])"
      ]
     },
     "execution_count": 35,
     "metadata": {},
     "output_type": "execute_result"
    }
   ],
   "source": [
    "X"
   ]
  },
  {
   "cell_type": "code",
   "execution_count": 36,
   "id": "586dacf7-e084-48e2-803f-bc32db0fa080",
   "metadata": {},
   "outputs": [
    {
     "data": {
      "text/plain": [
       "tensor([ 8.,  9., 10., 11.])"
      ]
     },
     "execution_count": 36,
     "metadata": {},
     "output_type": "execute_result"
    }
   ],
   "source": [
    "# 选择X中最后一个元素\n",
    "X[-1]"
   ]
  },
  {
   "cell_type": "code",
   "execution_count": 38,
   "id": "2e67b9b8-9773-4c78-a187-45fa5c3d6a79",
   "metadata": {},
   "outputs": [
    {
     "data": {
      "text/plain": [
       "tensor([[ 4.,  5.,  6.,  7.],\n",
       "        [ 8.,  9., 10., 11.]])"
      ]
     },
     "execution_count": 38,
     "metadata": {},
     "output_type": "execute_result"
    }
   ],
   "source": [
    "# 选择X中第2到3个元素\n",
    "X[1:3]"
   ]
  },
  {
   "cell_type": "code",
   "execution_count": 40,
   "id": "47e7fb76-6432-4ffd-907d-59e722a74792",
   "metadata": {},
   "outputs": [
    {
     "data": {
      "text/plain": [
       "tensor([[ 0.0000,  1.0000,  2.0000,  3.0000],\n",
       "        [ 4.0000,  5.0000,  0.2000,  7.0000],\n",
       "        [ 8.0000,  9.0000, 10.0000, 11.0000]])"
      ]
     },
     "execution_count": 40,
     "metadata": {},
     "output_type": "execute_result"
    }
   ],
   "source": [
    "# 指定索引将元素写入张量\n",
    "X[1,2] = 0.2\n",
    "X"
   ]
  },
  {
   "cell_type": "code",
   "execution_count": 41,
   "id": "feaed503-5611-4dae-b749-200a6c5a390d",
   "metadata": {},
   "outputs": [
    {
     "data": {
      "text/plain": [
       "tensor([[ 5.,  5.,  5.,  5.],\n",
       "        [ 5.,  5.,  5.,  5.],\n",
       "        [ 8.,  9., 10., 11.]])"
      ]
     },
     "execution_count": 41,
     "metadata": {},
     "output_type": "execute_result"
    }
   ],
   "source": [
    "# 为多个元素赋值相同的值\n",
    "X[0:2, :] = 5\n",
    "X"
   ]
  },
  {
   "cell_type": "markdown",
   "id": "75e9b500-d0f9-4d55-b665-27c30cb9e385",
   "metadata": {},
   "source": [
    "#### 5. 节省内存\n",
    "\n",
    "运行一些操作可能会导致为新的结果分配新的内存，如不及时释放，会占用过多内存，导致运行出错。\n",
    "\n",
    "在机器学习中，会有数以百兆的参数，一般会希望这些参数原地更新，如果不及时更新，那么其他引用可能会指向旧的内存地址的参数，这样参数可能会错误的引用旧的参数。"
   ]
  },
  {
   "cell_type": "code",
   "execution_count": 44,
   "id": "3aa37813-e9c3-434a-8832-16adaabb3450",
   "metadata": {},
   "outputs": [
    {
     "data": {
      "text/plain": [
       "False"
      ]
     },
     "execution_count": 44,
     "metadata": {},
     "output_type": "execute_result"
    }
   ],
   "source": [
    "# PYTHON中的id（）可以提供内存中引用对象的确切位置\n",
    "before = id(Y)\n",
    "Y = X + Y\n",
    "after = id(Y)\n",
    "before == after"
   ]
  },
  {
   "cell_type": "markdown",
   "id": "df51602b-2d87-4634-ba1f-912d5e764479",
   "metadata": {},
   "source": [
    "执行原地操作，可以使用切片表示法将操作结果分配给先前分配的数组。\n",
    "\n",
    "如果在后续计算中没有重复使用X， 我们也可以使用X[:] = X + Y或X += Y来减少操作的内存开销。"
   ]
  },
  {
   "cell_type": "code",
   "execution_count": 47,
   "id": "7bb026f9-47a1-4ff3-9a2a-9ac2c54bac86",
   "metadata": {},
   "outputs": [
    {
     "data": {
      "text/plain": [
       "(140459270943104, 140459270943104)"
      ]
     },
     "execution_count": 47,
     "metadata": {},
     "output_type": "execute_result"
    }
   ],
   "source": [
    "# 新建一个变量Z来说明\n",
    "Z = torch.zeros_like(Y)\n",
    "\n",
    "before = id(Z)\n",
    "\n",
    "Z[:] = X + Y\n",
    "\n",
    "before, id(Z)"
   ]
  },
  {
   "cell_type": "code",
   "execution_count": 48,
   "id": "f6fc7d5e-65a9-44e5-9f4f-44800d94df17",
   "metadata": {},
   "outputs": [
    {
     "data": {
      "text/plain": [
       "(140459270555456, 140459270555456)"
      ]
     },
     "execution_count": 48,
     "metadata": {},
     "output_type": "execute_result"
    }
   ],
   "source": [
    "# 如果X变量后面不再使用\n",
    "before = id(X)\n",
    "X += Y\n",
    "\n",
    "before, id(X)"
   ]
  },
  {
   "cell_type": "code",
   "execution_count": 49,
   "id": "448c8ab2-1a0c-4321-acb6-61be0724345c",
   "metadata": {},
   "outputs": [
    {
     "data": {
      "text/plain": [
       "(140459270555456, 140459270555456)"
      ]
     },
     "execution_count": 49,
     "metadata": {},
     "output_type": "execute_result"
    }
   ],
   "source": [
    "# 如果X变量后面不再使用\n",
    "before = id(X)\n",
    "\n",
    "X[:] = X + Y\n",
    "\n",
    "before, id(X)"
   ]
  },
  {
   "cell_type": "markdown",
   "id": "584423c8-9d33-4508-865e-ba2e17993aa4",
   "metadata": {},
   "source": [
    "#### 6. 转换为其他python格式\n",
    "\n",
    "* pytorch中的张量（tensor）和numpy中的张量（ndarray）可以互转；\n",
    "\n",
    "* 他们会共享底层的内存，就地操作更改一个张量会引起另一个张量的改变。"
   ]
  },
  {
   "cell_type": "code",
   "execution_count": 50,
   "id": "980fd48b-4251-4c50-922e-4dc07862f528",
   "metadata": {},
   "outputs": [
    {
     "data": {
      "text/plain": [
       "140459271438224"
      ]
     },
     "execution_count": 50,
     "metadata": {},
     "output_type": "execute_result"
    }
   ],
   "source": [
    "A = X.numpy()\n",
    "id(A)"
   ]
  },
  {
   "cell_type": "code",
   "execution_count": 51,
   "id": "a561bccf-6a52-420e-bfcd-727dbd9df92a",
   "metadata": {},
   "outputs": [
    {
     "data": {
      "text/plain": [
       "140459270952320"
      ]
     },
     "execution_count": 51,
     "metadata": {},
     "output_type": "execute_result"
    }
   ],
   "source": [
    "B = torch.tensor(A)\n",
    "id(B)"
   ]
  },
  {
   "cell_type": "code",
   "execution_count": 64,
   "id": "056b1a0d-7a84-489e-b66e-7f79afc0b3b8",
   "metadata": {},
   "outputs": [],
   "source": [
    "# 就地修改张量X 会修改到A\n",
    "X += Y"
   ]
  },
  {
   "cell_type": "code",
   "execution_count": 73,
   "id": "e9ccbbae-4b8e-435b-956f-df6816a837dc",
   "metadata": {},
   "outputs": [
    {
     "data": {
      "text/plain": [
       "(tensor([[103., 109., 115., 121.],\n",
       "         [121., 127., 109., 103.],\n",
       "         [190., 197., 234., 229.]]),\n",
       " 140459270555456)"
      ]
     },
     "execution_count": 73,
     "metadata": {},
     "output_type": "execute_result"
    }
   ],
   "source": [
    "X, id(X)"
   ]
  },
  {
   "cell_type": "code",
   "execution_count": 74,
   "id": "81f3cdd3-71a2-47e0-8150-e5f9bacc465b",
   "metadata": {},
   "outputs": [
    {
     "data": {
      "text/plain": [
       "(array([[103., 109., 115., 121.],\n",
       "        [121., 127., 109., 103.],\n",
       "        [190., 197., 234., 229.]], dtype=float32),\n",
       " 140459271438224)"
      ]
     },
     "execution_count": 74,
     "metadata": {},
     "output_type": "execute_result"
    }
   ],
   "source": [
    "A, id(A)"
   ]
  },
  {
   "cell_type": "code",
   "execution_count": 77,
   "id": "21bdc3cc-37f2-4f9f-9f1d-a8d8d10a14e7",
   "metadata": {},
   "outputs": [
    {
     "data": {
      "text/plain": [
       "array([[105., 111., 117., 123.],\n",
       "       [123., 129., 111., 105.],\n",
       "       [192., 199., 236., 231.]], dtype=float32)"
      ]
     },
     "execution_count": 77,
     "metadata": {},
     "output_type": "execute_result"
    }
   ],
   "source": [
    "# 原地修改A X 也会对应的改变\n",
    "A += 1\n",
    "A"
   ]
  },
  {
   "cell_type": "code",
   "execution_count": 78,
   "id": "05e52280-d022-46d3-ab3c-e174e0cfddce",
   "metadata": {},
   "outputs": [
    {
     "data": {
      "text/plain": [
       "tensor([[105., 111., 117., 123.],\n",
       "        [123., 129., 111., 105.],\n",
       "        [192., 199., 236., 231.]])"
      ]
     },
     "execution_count": 78,
     "metadata": {},
     "output_type": "execute_result"
    }
   ],
   "source": [
    "X"
   ]
  },
  {
   "cell_type": "markdown",
   "id": "68f9dde6-eaff-4122-b45b-b91d8b76d272",
   "metadata": {},
   "source": [
    "**以上同时改变的性质仅针对于从torch的张量转换为numpy的张量，若初始化一个numpy张量，并转换为一个torch张量，不具有同时改变的性质，他们并未共享同一底层内存。**"
   ]
  },
  {
   "cell_type": "code",
   "execution_count": 83,
   "id": "61c645f1-ec81-48cb-b12f-ea907f6dc6cb",
   "metadata": {},
   "outputs": [],
   "source": [
    "# 定义一个 2*3的numpy张量\n",
    "C = np.ndarray([2,3])"
   ]
  },
  {
   "cell_type": "code",
   "execution_count": 84,
   "id": "b759ba02-7247-4c06-af2c-7130718932fe",
   "metadata": {},
   "outputs": [
    {
     "data": {
      "text/plain": [
       "array([[1.31941413e+14, 3.87028163e+14, 5.98134466e+14],\n",
       "       [7.91648547e+13, 1.29478512e+16, 5.17914048e+16]])"
      ]
     },
     "execution_count": 84,
     "metadata": {},
     "output_type": "execute_result"
    }
   ],
   "source": [
    "C"
   ]
  },
  {
   "cell_type": "code",
   "execution_count": 85,
   "id": "bc89f950-fb83-41f4-bec4-c93dcf7fc583",
   "metadata": {},
   "outputs": [],
   "source": [
    "D = torch.tensor(C)"
   ]
  },
  {
   "cell_type": "code",
   "execution_count": 86,
   "id": "ad8667fd-1f0c-4cca-bef5-bf4d59b5b392",
   "metadata": {},
   "outputs": [
    {
     "data": {
      "text/plain": [
       "tensor([[1.3194e+14, 3.8703e+14, 5.9813e+14],\n",
       "        [7.9165e+13, 1.2948e+16, 5.1791e+16]], dtype=torch.float64)"
      ]
     },
     "execution_count": 86,
     "metadata": {},
     "output_type": "execute_result"
    }
   ],
   "source": [
    "D"
   ]
  },
  {
   "cell_type": "code",
   "execution_count": 89,
   "id": "af22e9bb-75c5-44a6-a161-657eb5d80f37",
   "metadata": {},
   "outputs": [
    {
     "data": {
      "text/plain": [
       "array([[2.63882826e+14, 7.74056326e+14, 1.19626893e+15],\n",
       "       [1.58329709e+14, 2.58957024e+16, 1.03582810e+17]])"
      ]
     },
     "execution_count": 89,
     "metadata": {},
     "output_type": "execute_result"
    }
   ],
   "source": [
    "C += C\n",
    "C"
   ]
  },
  {
   "cell_type": "code",
   "execution_count": 90,
   "id": "d5440cc5-23f8-4edd-8d0f-73896a7c7caa",
   "metadata": {},
   "outputs": [
    {
     "data": {
      "text/plain": [
       "tensor([[1.3194e+14, 3.8703e+14, 5.9813e+14],\n",
       "        [7.9165e+13, 1.2948e+16, 5.1791e+16]], dtype=torch.float64)"
      ]
     },
     "execution_count": 90,
     "metadata": {},
     "output_type": "execute_result"
    }
   ],
   "source": [
    "D"
   ]
  },
  {
   "cell_type": "code",
   "execution_count": 92,
   "id": "e14b7f1e-2077-404f-8260-d0d51009d825",
   "metadata": {},
   "outputs": [
    {
     "data": {
      "text/plain": [
       "tensor([[3.9582e+14, 1.1611e+15, 1.7944e+15],\n",
       "        [2.3749e+14, 3.8844e+16, 1.5537e+17]], dtype=torch.float64)"
      ]
     },
     "execution_count": 92,
     "metadata": {},
     "output_type": "execute_result"
    }
   ],
   "source": [
    "D += C\n",
    "D"
   ]
  },
  {
   "cell_type": "code",
   "execution_count": 93,
   "id": "8bc1e3a4-db13-4a4b-a4ff-ae17b9d90894",
   "metadata": {},
   "outputs": [
    {
     "data": {
      "text/plain": [
       "array([[2.63882826e+14, 7.74056326e+14, 1.19626893e+15],\n",
       "       [1.58329709e+14, 2.58957024e+16, 1.03582810e+17]])"
      ]
     },
     "execution_count": 93,
     "metadata": {},
     "output_type": "execute_result"
    }
   ],
   "source": [
    "C"
   ]
  },
  {
   "cell_type": "markdown",
   "id": "2a5bd878-042a-4b58-ba57-342b92a7084a",
   "metadata": {},
   "source": [
    "要将大小为1的张量转换为标量，可以使用`item`函数和`python`的内置函数：\n"
   ]
  },
  {
   "cell_type": "code",
   "execution_count": null,
   "id": "4baf6a56-85e7-49a2-8e0a-8d438e06b829",
   "metadata": {},
   "outputs": [],
   "source": [
    "a = torch.tensor([1.5])\n",
    "\n",
    "a, a.item(), float(a), int(a)"
   ]
  },
  {
   "cell_type": "code",
   "execution_count": null,
   "id": "8eb3b509-99e7-4044-9725-da498bbb4eed",
   "metadata": {},
   "outputs": [],
   "source": []
  },
  {
   "cell_type": "markdown",
   "id": "51d6463c-a515-4e49-bae8-ac697eaa6a97",
   "metadata": {},
   "source": [
    "### 2.2 数据预处理\n",
    "\n",
    "主要利用`pandas`对数据进行预处理，并转换为张量。"
   ]
  },
  {
   "cell_type": "markdown",
   "id": "627b9e46-d440-40b9-a018-aba7bded9e22",
   "metadata": {},
   "source": [
    "#### 1. 读取数据集\n",
    "\n",
    "创建一个人工数据集，并将其存为`csv`格式。"
   ]
  },
  {
   "cell_type": "code",
   "execution_count": 4,
   "id": "63a677a2-276d-4b19-8107-57ae4b253ab0",
   "metadata": {},
   "outputs": [],
   "source": [
    "import os\n",
    "\n",
    "os.makedirs(os.path.join('..', 'data'), exist_ok=True)\n",
    "data_file = os.path.join('..', 'data', 'house_tiny.csv')\n",
    "\n",
    "with open(data_file, 'w') as f:\n",
    "    f.write('NumRooms,Alley,Price\\n')    # 列名\n",
    "    f.write('NA,Pave,127500\\n')  # 每行表示一个数据样本\n",
    "    f.write('2,NA,106000\\n')\n",
    "    f.write('4,NA,178100\\n')\n",
    "    f.write('NA,NA,140000\\n')"
   ]
  },
  {
   "cell_type": "code",
   "execution_count": 27,
   "id": "99956e79-bfae-4e83-9330-03ebc25e40b4",
   "metadata": {},
   "outputs": [
    {
     "name": "stdout",
     "output_type": "stream",
     "text": [
      "   NumRooms Alley   Price\n",
      "0       NaN  Pave  127500\n",
      "1       2.0   NaN  106000\n",
      "2       4.0   NaN  178100\n",
      "3       NaN   NaN  140000\n"
     ]
    }
   ],
   "source": [
    "# 导入pandas库读取csv文件数据\n",
    "import pandas as pd\n",
    "\n",
    "data = pd.read_csv(data_file)\n",
    "print(data)"
   ]
  },
  {
   "cell_type": "markdown",
   "id": "e9b635d7-3178-4232-8e8b-508a83c130b6",
   "metadata": {},
   "source": [
    "#### 2. 处理缺失值\n",
    "\n",
    "数据中的`NaN`表示缺失值，一般处理缺失值的方法有两种：\n",
    "\n",
    "* 插值法：用一个替代值弥补缺失值。\n",
    "\n",
    "* 删除法：直接将包含有缺失值的数据删除。\n",
    "\n",
    "先使用`iloc`索引将数据分为`inputs`和`outputs`。"
   ]
  },
  {
   "cell_type": "code",
   "execution_count": 9,
   "id": "d613939d-ea08-4d72-942d-2c6b35d53c82",
   "metadata": {},
   "outputs": [
    {
     "name": "stdout",
     "output_type": "stream",
     "text": [
      "   NumRooms Alley\n",
      "0       3.0  Pave\n",
      "1       2.0   NaN\n",
      "2       4.0   NaN\n",
      "3       3.0   NaN\n",
      "=============\n",
      "0    127500\n",
      "1    106000\n",
      "2    178100\n",
      "3    140000\n",
      "Name: Price, dtype: int64\n"
     ]
    }
   ],
   "source": [
    "# 将数据分为inputs和outputs\n",
    "# 前两列为input 最后一列为outputs\n",
    "inputs = data.iloc[:, 0:2]\n",
    "\n",
    "# 使用均值对缺失值进行填充\n",
    "inputs = inputs.fillna(inputs.mean())\n",
    "\n",
    "outputs = data.iloc[:, 2]\n",
    "\n",
    "print(inputs)\n",
    "print('=============')\n",
    "print(outputs)"
   ]
  },
  {
   "cell_type": "markdown",
   "id": "f43a8516-53ad-4e26-8cb6-4d69dfcb2e87",
   "metadata": {},
   "source": [
    "对于`inputs`中的类别值和离散值，这里可以将`NaN`视为一个类别，`Pave`为另一个类别。\n",
    "\n"
   ]
  },
  {
   "cell_type": "code",
   "execution_count": 10,
   "id": "27418274-ff18-4610-97ca-09cb3183480d",
   "metadata": {},
   "outputs": [
    {
     "name": "stdout",
     "output_type": "stream",
     "text": [
      "   NumRooms  Alley_Pave  Alley_nan\n",
      "0       3.0           1          0\n",
      "1       2.0           0          1\n",
      "2       4.0           0          1\n",
      "3       3.0           0          1\n"
     ]
    }
   ],
   "source": [
    "# 使用pandas中的get_dummies\n",
    "\n",
    "inputs = pd.get_dummies(inputs, dummy_na=True)\n",
    "\n",
    "print(inputs)"
   ]
  },
  {
   "cell_type": "markdown",
   "id": "e80f9f28-f6b0-4e8c-af3e-37c8e83164dd",
   "metadata": {},
   "source": [
    "可以将现在为数值类型的数据转换为张量格式。"
   ]
  },
  {
   "cell_type": "code",
   "execution_count": 11,
   "id": "135d5544-4009-432c-995b-dbc70ffa2f21",
   "metadata": {},
   "outputs": [
    {
     "data": {
      "text/plain": [
       "(tensor([[3., 1., 0.],\n",
       "         [2., 0., 1.],\n",
       "         [4., 0., 1.],\n",
       "         [3., 0., 1.]], dtype=torch.float64),\n",
       " tensor([127500, 106000, 178100, 140000]))"
      ]
     },
     "execution_count": 11,
     "metadata": {},
     "output_type": "execute_result"
    }
   ],
   "source": [
    "import torch\n",
    "\n",
    "x = torch.tensor(inputs.values)\n",
    "y = torch.tensor(outputs.values)\n",
    "\n",
    "x, y"
   ]
  },
  {
   "cell_type": "markdown",
   "id": "180cdf46-e36e-4197-b932-b85fb9b0423b",
   "metadata": {},
   "source": [
    "删除空值最多的行。"
   ]
  },
  {
   "cell_type": "code",
   "execution_count": 13,
   "id": "dedaf305-4717-4e7b-965a-813d7e9f5326",
   "metadata": {},
   "outputs": [
    {
     "data": {
      "text/html": [
       "<div>\n",
       "<style scoped>\n",
       "    .dataframe tbody tr th:only-of-type {\n",
       "        vertical-align: middle;\n",
       "    }\n",
       "\n",
       "    .dataframe tbody tr th {\n",
       "        vertical-align: top;\n",
       "    }\n",
       "\n",
       "    .dataframe thead th {\n",
       "        text-align: right;\n",
       "    }\n",
       "</style>\n",
       "<table border=\"1\" class=\"dataframe\">\n",
       "  <thead>\n",
       "    <tr style=\"text-align: right;\">\n",
       "      <th></th>\n",
       "      <th>NumRooms</th>\n",
       "      <th>Alley</th>\n",
       "      <th>Price</th>\n",
       "    </tr>\n",
       "  </thead>\n",
       "  <tbody>\n",
       "    <tr>\n",
       "      <th>0</th>\n",
       "      <td>NaN</td>\n",
       "      <td>Pave</td>\n",
       "      <td>127500</td>\n",
       "    </tr>\n",
       "    <tr>\n",
       "      <th>1</th>\n",
       "      <td>2.0</td>\n",
       "      <td>NaN</td>\n",
       "      <td>106000</td>\n",
       "    </tr>\n",
       "    <tr>\n",
       "      <th>2</th>\n",
       "      <td>4.0</td>\n",
       "      <td>NaN</td>\n",
       "      <td>178100</td>\n",
       "    </tr>\n",
       "    <tr>\n",
       "      <th>3</th>\n",
       "      <td>NaN</td>\n",
       "      <td>NaN</td>\n",
       "      <td>140000</td>\n",
       "    </tr>\n",
       "  </tbody>\n",
       "</table>\n",
       "</div>"
      ],
      "text/plain": [
       "   NumRooms Alley   Price\n",
       "0       NaN  Pave  127500\n",
       "1       2.0   NaN  106000\n",
       "2       4.0   NaN  178100\n",
       "3       NaN   NaN  140000"
      ]
     },
     "execution_count": 13,
     "metadata": {},
     "output_type": "execute_result"
    }
   ],
   "source": [
    "data"
   ]
  },
  {
   "cell_type": "code",
   "execution_count": 16,
   "id": "d9d6f292-af91-4138-b27a-019317c43efc",
   "metadata": {},
   "outputs": [
    {
     "data": {
      "text/plain": [
       "1"
      ]
     },
     "execution_count": 16,
     "metadata": {},
     "output_type": "execute_result"
    }
   ],
   "source": [
    "data.count().min()"
   ]
  },
  {
   "cell_type": "code",
   "execution_count": 26,
   "id": "e3ab4915-9d85-4240-aa90-0a403969256f",
   "metadata": {},
   "outputs": [
    {
     "data": {
      "text/html": [
       "<div>\n",
       "<style scoped>\n",
       "    .dataframe tbody tr th:only-of-type {\n",
       "        vertical-align: middle;\n",
       "    }\n",
       "\n",
       "    .dataframe tbody tr th {\n",
       "        vertical-align: top;\n",
       "    }\n",
       "\n",
       "    .dataframe thead th {\n",
       "        text-align: right;\n",
       "    }\n",
       "</style>\n",
       "<table border=\"1\" class=\"dataframe\">\n",
       "  <thead>\n",
       "    <tr style=\"text-align: right;\">\n",
       "      <th></th>\n",
       "      <th>NumRooms</th>\n",
       "      <th>Price</th>\n",
       "    </tr>\n",
       "  </thead>\n",
       "  <tbody>\n",
       "    <tr>\n",
       "      <th>0</th>\n",
       "      <td>NaN</td>\n",
       "      <td>127500</td>\n",
       "    </tr>\n",
       "    <tr>\n",
       "      <th>1</th>\n",
       "      <td>2.0</td>\n",
       "      <td>106000</td>\n",
       "    </tr>\n",
       "    <tr>\n",
       "      <th>2</th>\n",
       "      <td>4.0</td>\n",
       "      <td>178100</td>\n",
       "    </tr>\n",
       "    <tr>\n",
       "      <th>3</th>\n",
       "      <td>NaN</td>\n",
       "      <td>140000</td>\n",
       "    </tr>\n",
       "  </tbody>\n",
       "</table>\n",
       "</div>"
      ],
      "text/plain": [
       "   NumRooms   Price\n",
       "0       NaN  127500\n",
       "1       2.0  106000\n",
       "2       4.0  178100\n",
       "3       NaN  140000"
      ]
     },
     "execution_count": 26,
     "metadata": {},
     "output_type": "execute_result"
    }
   ],
   "source": [
    "data = data.dropna(axis=1, thresh=data.count().min()+1)\n",
    "data"
   ]
  },
  {
   "cell_type": "code",
   "execution_count": 28,
   "id": "d2b04a7b-607d-4965-bd9f-a4428ce87253",
   "metadata": {},
   "outputs": [
    {
     "data": {
      "text/plain": [
       "'Alley'"
      ]
     },
     "execution_count": 28,
     "metadata": {},
     "output_type": "execute_result"
    }
   ],
   "source": [
    "max_null = data.isnull().sum().idxmax()\n",
    "max_null"
   ]
  },
  {
   "cell_type": "code",
   "execution_count": 30,
   "id": "73d3ee18-c7d5-42d1-93cc-7f803ca0b280",
   "metadata": {},
   "outputs": [
    {
     "data": {
      "text/html": [
       "<div>\n",
       "<style scoped>\n",
       "    .dataframe tbody tr th:only-of-type {\n",
       "        vertical-align: middle;\n",
       "    }\n",
       "\n",
       "    .dataframe tbody tr th {\n",
       "        vertical-align: top;\n",
       "    }\n",
       "\n",
       "    .dataframe thead th {\n",
       "        text-align: right;\n",
       "    }\n",
       "</style>\n",
       "<table border=\"1\" class=\"dataframe\">\n",
       "  <thead>\n",
       "    <tr style=\"text-align: right;\">\n",
       "      <th></th>\n",
       "      <th>NumRooms</th>\n",
       "      <th>Price</th>\n",
       "    </tr>\n",
       "  </thead>\n",
       "  <tbody>\n",
       "    <tr>\n",
       "      <th>0</th>\n",
       "      <td>NaN</td>\n",
       "      <td>127500</td>\n",
       "    </tr>\n",
       "    <tr>\n",
       "      <th>1</th>\n",
       "      <td>2.0</td>\n",
       "      <td>106000</td>\n",
       "    </tr>\n",
       "    <tr>\n",
       "      <th>2</th>\n",
       "      <td>4.0</td>\n",
       "      <td>178100</td>\n",
       "    </tr>\n",
       "    <tr>\n",
       "      <th>3</th>\n",
       "      <td>NaN</td>\n",
       "      <td>140000</td>\n",
       "    </tr>\n",
       "  </tbody>\n",
       "</table>\n",
       "</div>"
      ],
      "text/plain": [
       "   NumRooms   Price\n",
       "0       NaN  127500\n",
       "1       2.0  106000\n",
       "2       4.0  178100\n",
       "3       NaN  140000"
      ]
     },
     "execution_count": 30,
     "metadata": {},
     "output_type": "execute_result"
    }
   ],
   "source": [
    "data = data.drop(max_null, axis=1)\n",
    "data"
   ]
  },
  {
   "cell_type": "markdown",
   "id": "c0eea5ba-529f-472d-ad27-58191e502326",
   "metadata": {},
   "source": [
    "### 2.3 线性代数\n",
    "\n",
    "#### 1. 标量\n",
    "\n",
    "* 仅包含一个数值的叫做**标量（scalar）**。\n",
    "\n",
    "* 变量：未知的标量值。\n",
    "\n",
    "* 标量都用$x、y和z$来表示。\n",
    "\n",
    "* $\\mathbb{R}$ 表示所有*实数标量*的空间。\n",
    "\n",
    "* $x\\in\\mathbb{R}$是一个实值标量$x$的正式形式。\n",
    "\n",
    "* 标量由只有一个元素的张量表示。\n"
   ]
  },
  {
   "cell_type": "code",
   "execution_count": 31,
   "id": "52bb2da5-f2dd-43b8-9966-2e4953b79579",
   "metadata": {},
   "outputs": [
    {
     "data": {
      "text/plain": [
       "(tensor(8.), tensor(-2.), tensor(15.), tensor(0.6000), tensor(243.))"
      ]
     },
     "execution_count": 31,
     "metadata": {},
     "output_type": "execute_result"
    }
   ],
   "source": [
    "# 声明两个标量，并进行简单的计算\n",
    "x = torch.tensor(3.0)\n",
    "y = torch.tensor(5.0)\n",
    "\n",
    "x + y, x - y, x * y, x / y, x ** y"
   ]
  },
  {
   "cell_type": "markdown",
   "id": "5e682fa8-bd21-45d1-b18b-3be87c220bce",
   "metadata": {},
   "source": [
    "#### 2. 向量\n",
    "\n",
    "标量值组成的列表。\n",
    "\n",
    "列向量默认是向量的方向。"
   ]
  },
  {
   "cell_type": "code",
   "execution_count": 32,
   "id": "32fa4818-b955-4aa8-b1f4-32098a230685",
   "metadata": {},
   "outputs": [
    {
     "data": {
      "text/plain": [
       "tensor([0, 1, 2, 3])"
      ]
     },
     "execution_count": 32,
     "metadata": {},
     "output_type": "execute_result"
    }
   ],
   "source": [
    "x = torch.arange(4)\n",
    "x"
   ]
  },
  {
   "cell_type": "code",
   "execution_count": 33,
   "id": "000cf956-8b26-4d2d-b0f5-d6919f351619",
   "metadata": {},
   "outputs": [
    {
     "data": {
      "text/plain": [
       "tensor(2)"
      ]
     },
     "execution_count": 33,
     "metadata": {},
     "output_type": "execute_result"
    }
   ],
   "source": [
    "# 通过张量的索引来访问向量的任一元素\n",
    "x[2]"
   ]
  },
  {
   "cell_type": "markdown",
   "id": "de1f9fbf-cd74-4e2f-9e31-cd3610fdf99c",
   "metadata": {},
   "source": [
    "#### 3. 长度、维度和形状\n",
    "\n",
    "向量的长度通常成为向量的维度（dimention）"
   ]
  },
  {
   "cell_type": "code",
   "execution_count": 34,
   "id": "eecdea70-ddc3-43c5-8ced-19fdc421c79f",
   "metadata": {},
   "outputs": [
    {
     "data": {
      "text/plain": [
       "4"
      ]
     },
     "execution_count": 34,
     "metadata": {},
     "output_type": "execute_result"
    }
   ],
   "source": [
    "len(x)"
   ]
  },
  {
   "cell_type": "code",
   "execution_count": 35,
   "id": "adc56be0-5785-4d1f-abe0-15f82b860a50",
   "metadata": {},
   "outputs": [
    {
     "data": {
      "text/plain": [
       "torch.Size([4])"
      ]
     },
     "execution_count": 35,
     "metadata": {},
     "output_type": "execute_result"
    }
   ],
   "source": [
    "x.shape"
   ]
  },
  {
   "cell_type": "markdown",
   "id": "ae507edb-b499-44dc-a894-42825cd0ae9c",
   "metadata": {},
   "source": [
    "> 向量或轴的维度被用来表示向量或轴的长度，即向量或轴的元素数量。 然而，张量的维度用来表示张量具有的轴数。 在这个意义上，张量的某个轴的维数就是这个轴的长度。"
   ]
  },
  {
   "cell_type": "markdown",
   "id": "ee20568d-56ca-4237-8e15-16400eab46a1",
   "metadata": {},
   "source": [
    "#### 3. 矩阵\n",
    "\n",
    "矩阵将向量从一阶推广到二阶。在代码中表示为有两个轴的张量。\n",
    "\n",
    " 当矩阵具有相同数量的行和列时，其形状将变为正方形； 因此，它被称为方阵（square matrix）。\n"
   ]
  },
  {
   "cell_type": "code",
   "execution_count": 38,
   "id": "456451d0-a7a5-4747-8665-61ce01a835ee",
   "metadata": {},
   "outputs": [
    {
     "data": {
      "text/plain": [
       "tensor([[ 0,  1,  2,  3,  4],\n",
       "        [ 5,  6,  7,  8,  9],\n",
       "        [10, 11, 12, 13, 14],\n",
       "        [15, 16, 17, 18, 19]])"
      ]
     },
     "execution_count": 38,
     "metadata": {},
     "output_type": "execute_result"
    }
   ],
   "source": [
    "A = torch.arange(20).reshape(4,5)\n",
    "A"
   ]
  },
  {
   "cell_type": "code",
   "execution_count": 40,
   "id": "6758e14a-0b3a-469b-b168-0c7f94d5e264",
   "metadata": {},
   "outputs": [
    {
     "data": {
      "text/plain": [
       "tensor([[ 0,  5, 10, 15],\n",
       "        [ 1,  6, 11, 16],\n",
       "        [ 2,  7, 12, 17],\n",
       "        [ 3,  8, 13, 18],\n",
       "        [ 4,  9, 14, 19]])"
      ]
     },
     "execution_count": 40,
     "metadata": {},
     "output_type": "execute_result"
    }
   ],
   "source": [
    "# 访问矩阵的转置--行列倒换\n",
    "A.T"
   ]
  },
  {
   "cell_type": "markdown",
   "id": "adb84985-3a7c-47ea-bbc4-ada2cb3eceb4",
   "metadata": {},
   "source": [
    "对称矩阵的转置等于他本身\n"
   ]
  },
  {
   "cell_type": "code",
   "execution_count": 41,
   "id": "ed20aac1-2cb4-4798-b998-6ca2950b4d13",
   "metadata": {},
   "outputs": [
    {
     "data": {
      "text/plain": [
       "tensor([[True, True, True],\n",
       "        [True, True, True],\n",
       "        [True, True, True]])"
      ]
     },
     "execution_count": 41,
     "metadata": {},
     "output_type": "execute_result"
    }
   ],
   "source": [
    "# 定义一个对称矩阵\n",
    "B = torch.tensor([[1,2,3],[2,0,4],[3,4,5]])\n",
    "B == B.T"
   ]
  },
  {
   "cell_type": "markdown",
   "id": "ab2259c4-b11f-4600-bb3c-f68f524a9adb",
   "metadata": {},
   "source": [
    "#### 4. 张量\n",
    "\n",
    "张量提供了描述具有任意数量轴的`n`维数组的通用方法。\n",
    "\n"
   ]
  },
  {
   "cell_type": "code",
   "execution_count": 44,
   "id": "9239d6cf-1403-4c4e-a3fb-aef5c934d729",
   "metadata": {},
   "outputs": [
    {
     "data": {
      "text/plain": [
       "tensor([[[ 0,  1,  2,  3],\n",
       "         [ 4,  5,  6,  7]],\n",
       "\n",
       "        [[ 8,  9, 10, 11],\n",
       "         [12, 13, 14, 15]],\n",
       "\n",
       "        [[16, 17, 18, 19],\n",
       "         [20, 21, 22, 23]]])"
      ]
     },
     "execution_count": 44,
     "metadata": {},
     "output_type": "execute_result"
    }
   ],
   "source": [
    "X = torch.arange(24).reshape(3, 2, 4)\n",
    "X"
   ]
  },
  {
   "cell_type": "markdown",
   "id": "14968c41-3ead-4b33-9286-9148b8c4183e",
   "metadata": {},
   "source": [
    "#### 5. 张量算法的基本性质\n",
    "\n",
    "* 任何按元素的一元运算都不会改变操作数的形状；\n",
    "\n",
    "* 给定具有相同形状的任意两个张量，任何按元素二元运算的结果都将是相同形状的张量"
   ]
  },
  {
   "cell_type": "code",
   "execution_count": 46,
   "id": "f2214db4-c011-44f1-8507-0d6c965a292d",
   "metadata": {},
   "outputs": [
    {
     "data": {
      "text/plain": [
       "(tensor([[ 0.,  1.,  2.,  3.,  4.],\n",
       "         [ 5.,  6.,  7.,  8.,  9.],\n",
       "         [10., 11., 12., 13., 14.],\n",
       "         [15., 16., 17., 18., 19.]]),\n",
       " tensor([[ 0.,  2.,  4.,  6.,  8.],\n",
       "         [10., 12., 14., 16., 18.],\n",
       "         [20., 22., 24., 26., 28.],\n",
       "         [30., 32., 34., 36., 38.]]))"
      ]
     },
     "execution_count": 46,
     "metadata": {},
     "output_type": "execute_result"
    }
   ],
   "source": [
    "A = torch.arange(20, dtype=torch.float32).reshape(4,5)\n",
    "B = A.clone()\n",
    "A, A+B"
   ]
  },
  {
   "cell_type": "markdown",
   "id": "17ebb374-ba72-4eb4-87b1-af6bbfebdfe5",
   "metadata": {},
   "source": [
    "两个矩阵的按元素乘法称为**Hadamard积**（Hadamard product）（数学符号$\\odot$）。\n",
    "\n",
    "对于矩阵$\\mathbf{B} \\in \\mathbb{R}^{m \\times n}$， 其中第$i$行和第$j$列的元素是$b_{ij}$。 矩阵$\\mathbf{A}$和$\\mathbf{B}$的Hadamard积为：\n",
    "\n",
    "$$\\begin{split}\\mathbf{A} \\odot \\mathbf{B} = \\begin{bmatrix} a_{11} b_{11} & a_{12} b_{12} & \\dots & a_{1n} b_{1n} \\\\ a_{21} b_{21} & a_{22} b_{22} & \\dots & a_{2n} b_{2n} \\\\ \\vdots & \\vdots & \\ddots & \\vdots \\\\ a_{m1} b_{m1} & a_{m2} b_{m2} & \\dots & a_{mn} b_{mn} \\end{bmatrix}.\\end{split}$$"
   ]
  },
  {
   "cell_type": "code",
   "execution_count": 48,
   "id": "5c765597-4e92-4c0b-be92-604cbf34904a",
   "metadata": {},
   "outputs": [
    {
     "data": {
      "text/plain": [
       "(tensor([[ 0.,  1.,  2.,  3.,  4.],\n",
       "         [ 5.,  6.,  7.,  8.,  9.],\n",
       "         [10., 11., 12., 13., 14.],\n",
       "         [15., 16., 17., 18., 19.]]),\n",
       " tensor([[ 0.,  1.,  2.,  3.,  4.],\n",
       "         [ 5.,  6.,  7.,  8.,  9.],\n",
       "         [10., 11., 12., 13., 14.],\n",
       "         [15., 16., 17., 18., 19.]]),\n",
       " tensor([[  0.,   1.,   4.,   9.,  16.],\n",
       "         [ 25.,  36.,  49.,  64.,  81.],\n",
       "         [100., 121., 144., 169., 196.],\n",
       "         [225., 256., 289., 324., 361.]]))"
      ]
     },
     "execution_count": 48,
     "metadata": {},
     "output_type": "execute_result"
    }
   ],
   "source": [
    "A, B, A * B"
   ]
  },
  {
   "cell_type": "markdown",
   "id": "054a8735-8850-4f6c-9855-d9ae7693ffdd",
   "metadata": {},
   "source": [
    "将张量乘以或加上一个标量不会改变张量的形状，其中张量的每个元素都将与标量相加或相乘。"
   ]
  },
  {
   "cell_type": "code",
   "execution_count": 49,
   "id": "bdd8b5f4-77ec-47f2-a2cc-d418f720be21",
   "metadata": {},
   "outputs": [
    {
     "data": {
      "text/plain": [
       "(tensor([[[ 0,  1,  2,  3],\n",
       "          [ 4,  5,  6,  7],\n",
       "          [ 8,  9, 10, 11]],\n",
       " \n",
       "         [[12, 13, 14, 15],\n",
       "          [16, 17, 18, 19],\n",
       "          [20, 21, 22, 23]]]),\n",
       " tensor([[[ 2,  3,  4,  5],\n",
       "          [ 6,  7,  8,  9],\n",
       "          [10, 11, 12, 13]],\n",
       " \n",
       "         [[14, 15, 16, 17],\n",
       "          [18, 19, 20, 21],\n",
       "          [22, 23, 24, 25]]]),\n",
       " tensor([[[-2, -1,  0,  1],\n",
       "          [ 2,  3,  4,  5],\n",
       "          [ 6,  7,  8,  9]],\n",
       " \n",
       "         [[10, 11, 12, 13],\n",
       "          [14, 15, 16, 17],\n",
       "          [18, 19, 20, 21]]]),\n",
       " tensor([[[ 0,  2,  4,  6],\n",
       "          [ 8, 10, 12, 14],\n",
       "          [16, 18, 20, 22]],\n",
       " \n",
       "         [[24, 26, 28, 30],\n",
       "          [32, 34, 36, 38],\n",
       "          [40, 42, 44, 46]]]),\n",
       " tensor([[[ 0.0000,  0.5000,  1.0000,  1.5000],\n",
       "          [ 2.0000,  2.5000,  3.0000,  3.5000],\n",
       "          [ 4.0000,  4.5000,  5.0000,  5.5000]],\n",
       " \n",
       "         [[ 6.0000,  6.5000,  7.0000,  7.5000],\n",
       "          [ 8.0000,  8.5000,  9.0000,  9.5000],\n",
       "          [10.0000, 10.5000, 11.0000, 11.5000]]]),\n",
       " tensor([[[  0,   1,   4,   9],\n",
       "          [ 16,  25,  36,  49],\n",
       "          [ 64,  81, 100, 121]],\n",
       " \n",
       "         [[144, 169, 196, 225],\n",
       "          [256, 289, 324, 361],\n",
       "          [400, 441, 484, 529]]]))"
      ]
     },
     "execution_count": 49,
     "metadata": {},
     "output_type": "execute_result"
    }
   ],
   "source": [
    "a = 2\n",
    "\n",
    "A = torch.arange(24).reshape(2,3,4)\n",
    "\n",
    "A, A+a, A-a, A*a, A/a, A**a"
   ]
  },
  {
   "cell_type": "markdown",
   "id": "e55aa071-89c1-4367-bcd0-c31cdb1b2ddc",
   "metadata": {},
   "source": [
    "#### 6. 降维\n",
    "\n",
    "对任何一个张量都可以进行的操作是计算其元素的和。"
   ]
  },
  {
   "cell_type": "code",
   "execution_count": 52,
   "id": "32d47b38-8321-4342-8c72-9c97190baef1",
   "metadata": {},
   "outputs": [
    {
     "data": {
      "text/plain": [
       "(tensor([[ 0.,  1.,  2.,  3.,  4.],\n",
       "         [ 5.,  6.,  7.,  8.,  9.],\n",
       "         [10., 11., 12., 13., 14.],\n",
       "         [15., 16., 17., 18., 19.]]),\n",
       " tensor(190.))"
      ]
     },
     "execution_count": 52,
     "metadata": {},
     "output_type": "execute_result"
    }
   ],
   "source": [
    "X = torch.arange(20, dtype=torch.float32).reshape(4,5)\n",
    "X, X.sum()"
   ]
  },
  {
   "cell_type": "markdown",
   "id": "06a8d8a2-295a-4ca6-b962-fdca4db2296a",
   "metadata": {},
   "source": [
    "可以通过指定张量沿着哪一个轴来通过求和降低维度。\n"
   ]
  },
  {
   "cell_type": "code",
   "execution_count": 57,
   "id": "0a84e454-b296-44ed-bd62-de2b010e7a86",
   "metadata": {},
   "outputs": [
    {
     "data": {
      "text/plain": [
       "(tensor([[ 0.,  1.,  2.,  3.,  4.],\n",
       "         [ 5.,  6.,  7.,  8.,  9.],\n",
       "         [10., 11., 12., 13., 14.],\n",
       "         [15., 16., 17., 18., 19.]]),\n",
       " tensor([30., 34., 38., 42., 46.]),\n",
       " torch.Size([5]))"
      ]
     },
     "execution_count": 57,
     "metadata": {},
     "output_type": "execute_result"
    }
   ],
   "source": [
    "# 沿着列来求和降维\n",
    "X_sum_axis0 = X.sum(axis=0)\n",
    "X, X_sum_axis0, X_sum_axis0.shape"
   ]
  },
  {
   "cell_type": "code",
   "execution_count": 58,
   "id": "18cd16e0-4b63-4363-8ec3-92c855f5a5d1",
   "metadata": {},
   "outputs": [
    {
     "data": {
      "text/plain": [
       "(tensor([[ 0.,  1.,  2.,  3.,  4.],\n",
       "         [ 5.,  6.,  7.,  8.,  9.],\n",
       "         [10., 11., 12., 13., 14.],\n",
       "         [15., 16., 17., 18., 19.]]),\n",
       " tensor([10., 35., 60., 85.]),\n",
       " torch.Size([4]))"
      ]
     },
     "execution_count": 58,
     "metadata": {},
     "output_type": "execute_result"
    }
   ],
   "source": [
    "# 沿着行来求和降维\n",
    "X_sum_axis1 = X.sum(axis=1)\n",
    "X, X_sum_axis1, X_sum_axis1.shape"
   ]
  },
  {
   "cell_type": "markdown",
   "id": "09e8b4e6-6d39-484f-9fc0-fc82106bd697",
   "metadata": {},
   "source": [
    "沿着行和列队矩阵求和，等价于对所有元素求和。"
   ]
  },
  {
   "cell_type": "code",
   "execution_count": 60,
   "id": "588715f3-2b8d-4095-a6a9-6904273ae74a",
   "metadata": {},
   "outputs": [
    {
     "data": {
      "text/plain": [
       "tensor(190.)"
      ]
     },
     "execution_count": 60,
     "metadata": {},
     "output_type": "execute_result"
    }
   ],
   "source": [
    "X.sum(axis=[0,1])"
   ]
  },
  {
   "cell_type": "code",
   "execution_count": null,
   "id": "17e02937-714b-4031-b829-f2883fc55dba",
   "metadata": {},
   "outputs": [],
   "source": []
  }
 ],
 "metadata": {
  "kernelspec": {
   "display_name": "Python 3 (ipykernel)",
   "language": "python",
   "name": "python3"
  },
  "language_info": {
   "codemirror_mode": {
    "name": "ipython",
    "version": 3
   },
   "file_extension": ".py",
   "mimetype": "text/x-python",
   "name": "python",
   "nbconvert_exporter": "python",
   "pygments_lexer": "ipython3",
   "version": "3.8.3"
  }
 },
 "nbformat": 4,
 "nbformat_minor": 5
}
