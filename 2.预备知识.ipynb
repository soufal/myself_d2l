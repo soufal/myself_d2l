{
 "cells": [
  {
   "cell_type": "markdown",
   "id": "d37a4501-1646-4061-8cde-367c0c6d783a",
   "metadata": {},
   "source": [
    "### 2.1 数据操作\n",
    "\n",
    "* 张量（tensor）：n维数组。相当于`numpy`中的`ndarray`。\n",
    "    \n",
    "    * 深度学习框架中的张量相比于`numpy`来说：能够支持GPU并行计算；能够自动微分。"
   ]
  },
  {
   "cell_type": "markdown",
   "id": "f0b03aa7-391b-4b51-aecc-8a0b55d52e48",
   "metadata": {},
   "source": [
    "#### 1. 基本操作"
   ]
  },
  {
   "cell_type": "code",
   "execution_count": 4,
   "id": "774cc69b-8fe0-4907-8ba4-7ae8f315d7ea",
   "metadata": {},
   "outputs": [],
   "source": [
    "# 使用pytorch\n",
    "import torch\n"
   ]
  },
  {
   "cell_type": "markdown",
   "id": "59b11f37-9852-4f63-be18-2988b61223d7",
   "metadata": {},
   "source": [
    "张量表示一个由多个数值组成的数组，而这个数组可以是多维度的，一维的张量对应数学上的*向量*，二维的张量对应数学上的*矩阵*，二维以上的无特殊表示。"
   ]
  },
  {
   "cell_type": "code",
   "execution_count": 6,
   "id": "f87259c9-5468-40d0-9a3e-4dc400670dc3",
   "metadata": {},
   "outputs": [
    {
     "data": {
      "text/plain": [
       "tensor([ 0,  1,  2,  3,  4,  5,  6,  7,  8,  9, 10, 11])"
      ]
     },
     "execution_count": 6,
     "metadata": {},
     "output_type": "execute_result"
    }
   ],
   "source": [
    "# 使用arange创建一个行向量\n",
    "x = torch.arange(12)\n",
    "x"
   ]
  },
  {
   "cell_type": "markdown",
   "id": "c0a24c95-a507-46f1-ae52-a980ef31e312",
   "metadata": {},
   "source": [
    "轴：行0，列1"
   ]
  },
  {
   "cell_type": "code",
   "execution_count": 8,
   "id": "0f0e6b3c-87ce-4a07-871f-ffde7b000e72",
   "metadata": {},
   "outputs": [
    {
     "data": {
      "text/plain": [
       "torch.Size([12])"
      ]
     },
     "execution_count": 8,
     "metadata": {},
     "output_type": "execute_result"
    }
   ],
   "source": [
    "# 访问张量的形状（每个轴的长度）\n",
    "x.shape"
   ]
  },
  {
   "cell_type": "code",
   "execution_count": 10,
   "id": "2c73444a-0fe3-432f-8658-859419346178",
   "metadata": {},
   "outputs": [
    {
     "data": {
      "text/plain": [
       "12"
      ]
     },
     "execution_count": 10,
     "metadata": {},
     "output_type": "execute_result"
    }
   ],
   "source": [
    "# 张量中元素的总数\n",
    "x.numel()"
   ]
  },
  {
   "cell_type": "code",
   "execution_count": 11,
   "id": "844bbd63-1f26-418c-88c2-7f4b589a0f96",
   "metadata": {},
   "outputs": [
    {
     "data": {
      "text/plain": [
       "tensor([[ 0,  1,  2,  3],\n",
       "        [ 4,  5,  6,  7],\n",
       "        [ 8,  9, 10, 11]])"
      ]
     },
     "execution_count": 11,
     "metadata": {},
     "output_type": "execute_result"
    }
   ],
   "source": [
    "# 改变一个张量的形状，而不改变元素个数和数值\n",
    "X = x.reshape(3,4)\n",
    "X"
   ]
  },
  {
   "cell_type": "code",
   "execution_count": 14,
   "id": "5a4d7b97-86b5-4b1e-80bb-96f7c4d8ccfa",
   "metadata": {},
   "outputs": [
    {
     "data": {
      "text/plain": [
       "tensor([[ 0,  1,  2,  3],\n",
       "        [ 4,  5,  6,  7],\n",
       "        [ 8,  9, 10, 11]])"
      ]
     },
     "execution_count": 14,
     "metadata": {},
     "output_type": "execute_result"
    }
   ],
   "source": [
    "# 通过调用-1来代替上述的改变形状\n",
    "X1 = x.reshape(-1,4)\n",
    "X1\n"
   ]
  },
  {
   "cell_type": "code",
   "execution_count": 15,
   "id": "2677c806-ee44-480d-98e9-9006fd71144a",
   "metadata": {},
   "outputs": [
    {
     "data": {
      "text/plain": [
       "tensor([[ 0,  1,  2,  3],\n",
       "        [ 4,  5,  6,  7],\n",
       "        [ 8,  9, 10, 11]])"
      ]
     },
     "execution_count": 15,
     "metadata": {},
     "output_type": "execute_result"
    }
   ],
   "source": [
    "\n",
    "X2 = x.reshape(3,-1)\n",
    "X2"
   ]
  },
  {
   "cell_type": "code",
   "execution_count": 16,
   "id": "fa6713b1-b931-4397-bb82-866ff6b5b473",
   "metadata": {},
   "outputs": [
    {
     "data": {
      "text/plain": [
       "tensor([[[0., 0., 0., 0.],\n",
       "         [0., 0., 0., 0.],\n",
       "         [0., 0., 0., 0.]],\n",
       "\n",
       "        [[0., 0., 0., 0.],\n",
       "         [0., 0., 0., 0.],\n",
       "         [0., 0., 0., 0.]]])"
      ]
     },
     "execution_count": 16,
     "metadata": {},
     "output_type": "execute_result"
    }
   ],
   "source": [
    "# 初始化一个全为0的张量\n",
    "torch.zeros((2,3,4))"
   ]
  },
  {
   "cell_type": "code",
   "execution_count": 17,
   "id": "9f884838-c5ca-4083-a6c3-aa47eb402b8b",
   "metadata": {},
   "outputs": [
    {
     "data": {
      "text/plain": [
       "tensor([[[1., 1., 1., 1.],\n",
       "         [1., 1., 1., 1.],\n",
       "         [1., 1., 1., 1.]],\n",
       "\n",
       "        [[1., 1., 1., 1.],\n",
       "         [1., 1., 1., 1.],\n",
       "         [1., 1., 1., 1.]]])"
      ]
     },
     "execution_count": 17,
     "metadata": {},
     "output_type": "execute_result"
    }
   ],
   "source": [
    "# 初始化一个全为1 的张量\n",
    "torch.ones((2,3,4))"
   ]
  },
  {
   "cell_type": "code",
   "execution_count": 18,
   "id": "ba524884-e237-4719-99e9-8e5d34b2ca2e",
   "metadata": {},
   "outputs": [
    {
     "data": {
      "text/plain": [
       "tensor([[ 0.7291, -0.8580, -0.5570,  0.0374],\n",
       "        [ 2.0765,  1.2677,  0.0759,  0.0580],\n",
       "        [-1.1753, -1.4308, -1.7913, -0.6926]])"
      ]
     },
     "execution_count": 18,
     "metadata": {},
     "output_type": "execute_result"
    }
   ],
   "source": [
    "# 从均值为0标准差为1的 标准高斯（正态分布）中随机采样\n",
    "torch.randn(3,4)\n"
   ]
  },
  {
   "cell_type": "code",
   "execution_count": 21,
   "id": "90b2f74d-09d9-4ba1-8692-aab4dddcf218",
   "metadata": {},
   "outputs": [
    {
     "data": {
      "text/plain": [
       "tensor([[ 1,  2,  3,  4],\n",
       "        [ 5,  6,  7,  8],\n",
       "        [ 9, 10, 11, 12]])"
      ]
     },
     "execution_count": 21,
     "metadata": {},
     "output_type": "execute_result"
    }
   ],
   "source": [
    "# 可用所提供的的python列表将其转化为tensor\n",
    "# 这里最外层对应轴0（3），最内层对应轴1（4）\n",
    "torch.tensor([[1,2,3,4], [5,6,7,8], [9,10,11,12]])"
   ]
  },
  {
   "cell_type": "markdown",
   "id": "423f027d-8ba0-42b3-966c-4b2abdad91c1",
   "metadata": {},
   "source": [
    "#### 2. 运算符"
   ]
  },
  {
   "cell_type": "code",
   "execution_count": 22,
   "id": "461f2afa-bb27-4350-9f2f-8236163542e6",
   "metadata": {},
   "outputs": [
    {
     "data": {
      "text/plain": [
       "(tensor([2.2000, 3.0000, 5.0000]),\n",
       " tensor([-1.8000, -1.0000,  1.0000]),\n",
       " tensor([0.4000, 2.0000, 6.0000]),\n",
       " tensor([0.1000, 0.5000, 1.5000]),\n",
       " tensor([0.0400, 1.0000, 9.0000]))"
      ]
     },
     "execution_count": 22,
     "metadata": {},
     "output_type": "execute_result"
    }
   ],
   "source": [
    "# 按元素操作 + - * / **\n",
    "x = torch.tensor([0.2, 1, 3])\n",
    "y = torch.tensor([2, 2, 2])\n",
    "\n",
    "x + y, x - y, x * y, x / y, x ** y\n"
   ]
  },
  {
   "cell_type": "code",
   "execution_count": 23,
   "id": "7fe3d73b-c8b6-4f38-8743-42be652091d2",
   "metadata": {},
   "outputs": [
    {
     "data": {
      "text/plain": [
       "tensor([ 1.2214,  2.7183, 20.0855])"
      ]
     },
     "execution_count": 23,
     "metadata": {},
     "output_type": "execute_result"
    }
   ],
   "source": [
    "torch.exp(x)"
   ]
  },
  {
   "cell_type": "code",
   "execution_count": 27,
   "id": "d5bd6c1f-f638-401b-9119-52bcfa9c904b",
   "metadata": {},
   "outputs": [
    {
     "data": {
      "text/plain": [
       "(tensor([[ 0.,  1.,  2.,  3.],\n",
       "         [ 4.,  5.,  6.,  7.],\n",
       "         [ 8.,  9., 10., 11.],\n",
       "         [ 1.,  2.,  3.,  4.],\n",
       "         [ 4.,  5.,  2.,  1.],\n",
       "         [ 6.,  4.,  7.,  3.]]),\n",
       " tensor([[ 0.,  1.,  2.,  3.,  1.,  2.,  3.,  4.],\n",
       "         [ 4.,  5.,  6.,  7.,  4.,  5.,  2.,  1.],\n",
       "         [ 8.,  9., 10., 11.,  6.,  4.,  7.,  3.]]))"
      ]
     },
     "execution_count": 27,
     "metadata": {},
     "output_type": "execute_result"
    }
   ],
   "source": [
    "# 可以把多个张量联结（concatenate）在一起，\n",
    "# 让他们端对端的形成一个更大的张量\n",
    "# 只需提供张量列表，并给出沿那个轴联结\n",
    "X = torch.arange(12, dtype=torch.float32).reshape(3,4)\n",
    "Y = torch.tensor([[1.0, 2.0, 3, 4], [4, 5, 2, 1], [6, 4, 7 ,3]])\n",
    "\n",
    "# 按照行来联结(追加行), 按照列来联结(追加列)\n",
    "torch.cat((X, Y), dim=0), torch.cat((X, Y), dim=1)"
   ]
  },
  {
   "cell_type": "code",
   "execution_count": 28,
   "id": "80328477-58e5-4849-8737-651e17e46741",
   "metadata": {},
   "outputs": [
    {
     "data": {
      "text/plain": [
       "tensor([[False, False, False, False],\n",
       "        [ True,  True, False, False],\n",
       "        [False, False, False, False]])"
      ]
     },
     "execution_count": 28,
     "metadata": {},
     "output_type": "execute_result"
    }
   ],
   "source": [
    "# 通过逻辑运算符来构建二元张量\n",
    "X == Y"
   ]
  },
  {
   "cell_type": "code",
   "execution_count": 29,
   "id": "5e006311-c73c-426c-8176-d97c50d0dc04",
   "metadata": {},
   "outputs": [
    {
     "data": {
      "text/plain": [
       "tensor([[False, False, False, False],\n",
       "        [False, False,  True,  True],\n",
       "        [ True,  True,  True,  True]])"
      ]
     },
     "execution_count": 29,
     "metadata": {},
     "output_type": "execute_result"
    }
   ],
   "source": [
    "X > Y"
   ]
  },
  {
   "cell_type": "code",
   "execution_count": 30,
   "id": "c8e0a1e1-40bc-493f-a901-28a74789e3eb",
   "metadata": {},
   "outputs": [
    {
     "data": {
      "text/plain": [
       "tensor([[ True,  True,  True,  True],\n",
       "        [False, False, False, False],\n",
       "        [False, False, False, False]])"
      ]
     },
     "execution_count": 30,
     "metadata": {},
     "output_type": "execute_result"
    }
   ],
   "source": [
    "X < Y"
   ]
  },
  {
   "cell_type": "code",
   "execution_count": 31,
   "id": "94aed077-adb1-408f-bf7a-c9c18a76f039",
   "metadata": {},
   "outputs": [
    {
     "data": {
      "text/plain": [
       "tensor(66.)"
      ]
     },
     "execution_count": 31,
     "metadata": {},
     "output_type": "execute_result"
    }
   ],
   "source": [
    "# 对张量中的所有元素求和，会产生一个单元素张量\n",
    "X.sum()"
   ]
  },
  {
   "cell_type": "code",
   "execution_count": 32,
   "id": "460fec84-2613-4c54-acee-246675c466d5",
   "metadata": {},
   "outputs": [
    {
     "data": {
      "text/plain": [
       "tensor(42.)"
      ]
     },
     "execution_count": 32,
     "metadata": {},
     "output_type": "execute_result"
    }
   ],
   "source": [
    "Y.sum()"
   ]
  },
  {
   "cell_type": "markdown",
   "id": "6a68b6e1-c750-4bcf-8ec8-b5aab52cc1dd",
   "metadata": {},
   "source": [
    "#### 3. 广播机制\n",
    "\n",
    "在某些情况下，即使张量的形状不同，可以利用**广播机制（broadcasting mechanism）**来执行按元素操作。\n",
    "\n",
    "1. 通过复制一个或者两个数组来保持张量的形状一致；\n",
    "2. 然后再对他们进行按元素运算。"
   ]
  },
  {
   "cell_type": "code",
   "execution_count": 33,
   "id": "6bafbc4c-8e4a-4593-8f86-5b44ce0d01a8",
   "metadata": {},
   "outputs": [
    {
     "data": {
      "text/plain": [
       "(tensor([[0],\n",
       "         [1],\n",
       "         [2]]),\n",
       " tensor([[0, 1]]))"
      ]
     },
     "execution_count": 33,
     "metadata": {},
     "output_type": "execute_result"
    }
   ],
   "source": [
    "a = torch.arange(3).reshape((3,1))\n",
    "b = torch.arange(2).reshape((1,2))\n",
    "\n",
    "a, b"
   ]
  },
  {
   "cell_type": "code",
   "execution_count": 34,
   "id": "b5b5ca4d-c970-4214-9a2c-d9bce9bfc332",
   "metadata": {},
   "outputs": [
    {
     "data": {
      "text/plain": [
       "tensor([[0, 1],\n",
       "        [1, 2],\n",
       "        [2, 3]])"
      ]
     },
     "execution_count": 34,
     "metadata": {},
     "output_type": "execute_result"
    }
   ],
   "source": [
    "a + b"
   ]
  },
  {
   "cell_type": "markdown",
   "id": "2478dce5-7e5b-45f5-ad96-72d3e1a6122e",
   "metadata": {},
   "source": [
    "上述过程描述为：\n",
    "\n",
    "$$a = \n",
    "\\begin{pmatrix}\n",
    "0\\\\\n",
    "1\\\\\n",
    "2\\\\\n",
    "\\end{pmatrix}\n",
    "$$\n",
    "\n",
    "$$b = \n",
    "\\begin{pmatrix}\n",
    "0 & 1\n",
    "\\end{pmatrix}\n",
    "$$\n",
    "\n",
    "1. `a`张量按照`b`张量的形状复制一列：\n",
    "\n",
    "$$a^` = \n",
    "\\begin{pmatrix}\n",
    "0 & 0\\\\\n",
    "1 & 1\\\\\n",
    "2 & 2\\\\\n",
    "\\end{pmatrix}\n",
    "$$\n",
    "\n",
    "得到一个形状为`3*2`的张量。\n",
    "\n",
    "2. `b`同理也按照`a`张量的形状复制两行：\n",
    "\n",
    "$$b^` = \n",
    "\\begin{pmatrix}\n",
    "0 & 1\\\\\n",
    "0 & 1\\\\\n",
    "0 & 1\\\\\n",
    "\\end{pmatrix}\n",
    "$$\n",
    "\n",
    "同样得到一个形状为`3*2`的张量。\n",
    "\n",
    "3. 然后两个张量按照元素相加即可：\n",
    "\n",
    "$$a + b = \n",
    "\\begin{pmatrix}\n",
    "0 & 0\\\\\n",
    "1 & 1\\\\\n",
    "2 & 2\\\\\n",
    "\\end{pmatrix}\n",
    "+\n",
    "\\begin{pmatrix}\n",
    "0 & 1\\\\\n",
    "0 & 1\\\\\n",
    "0 & 1\\\\\n",
    "\\end{pmatrix}\n",
    "=\n",
    "\\begin{pmatrix}\n",
    "0 & 1\\\\\n",
    "1 & 2\\\\\n",
    "2 & 3\\\\\n",
    "\\end{pmatrix}\n",
    "$$"
   ]
  },
  {
   "cell_type": "markdown",
   "id": "765ea02c-2cbb-478a-a0f0-f14b827dd07c",
   "metadata": {},
   "source": [
    "#### 4. 索引和切片"
   ]
  },
  {
   "cell_type": "code",
   "execution_count": 35,
   "id": "84b3215f-2d26-4c69-b002-068b4086b8f7",
   "metadata": {},
   "outputs": [
    {
     "data": {
      "text/plain": [
       "tensor([[ 0.,  1.,  2.,  3.],\n",
       "        [ 4.,  5.,  6.,  7.],\n",
       "        [ 8.,  9., 10., 11.]])"
      ]
     },
     "execution_count": 35,
     "metadata": {},
     "output_type": "execute_result"
    }
   ],
   "source": [
    "X"
   ]
  },
  {
   "cell_type": "code",
   "execution_count": 36,
   "id": "586dacf7-e084-48e2-803f-bc32db0fa080",
   "metadata": {},
   "outputs": [
    {
     "data": {
      "text/plain": [
       "tensor([ 8.,  9., 10., 11.])"
      ]
     },
     "execution_count": 36,
     "metadata": {},
     "output_type": "execute_result"
    }
   ],
   "source": [
    "# 选择X中最后一个元素\n",
    "X[-1]"
   ]
  },
  {
   "cell_type": "code",
   "execution_count": 38,
   "id": "2e67b9b8-9773-4c78-a187-45fa5c3d6a79",
   "metadata": {},
   "outputs": [
    {
     "data": {
      "text/plain": [
       "tensor([[ 4.,  5.,  6.,  7.],\n",
       "        [ 8.,  9., 10., 11.]])"
      ]
     },
     "execution_count": 38,
     "metadata": {},
     "output_type": "execute_result"
    }
   ],
   "source": [
    "# 选择X中第2到3个元素\n",
    "X[1:3]"
   ]
  },
  {
   "cell_type": "code",
   "execution_count": 40,
   "id": "47e7fb76-6432-4ffd-907d-59e722a74792",
   "metadata": {},
   "outputs": [
    {
     "data": {
      "text/plain": [
       "tensor([[ 0.0000,  1.0000,  2.0000,  3.0000],\n",
       "        [ 4.0000,  5.0000,  0.2000,  7.0000],\n",
       "        [ 8.0000,  9.0000, 10.0000, 11.0000]])"
      ]
     },
     "execution_count": 40,
     "metadata": {},
     "output_type": "execute_result"
    }
   ],
   "source": [
    "# 指定索引将元素写入张量\n",
    "X[1,2] = 0.2\n",
    "X"
   ]
  },
  {
   "cell_type": "code",
   "execution_count": null,
   "id": "feaed503-5611-4dae-b749-200a6c5a390d",
   "metadata": {},
   "outputs": [],
   "source": []
  }
 ],
 "metadata": {
  "kernelspec": {
   "display_name": "Python 3 (ipykernel)",
   "language": "python",
   "name": "python3"
  },
  "language_info": {
   "codemirror_mode": {
    "name": "ipython",
    "version": 3
   },
   "file_extension": ".py",
   "mimetype": "text/x-python",
   "name": "python",
   "nbconvert_exporter": "python",
   "pygments_lexer": "ipython3",
   "version": "3.8.3"
  }
 },
 "nbformat": 4,
 "nbformat_minor": 5
}
